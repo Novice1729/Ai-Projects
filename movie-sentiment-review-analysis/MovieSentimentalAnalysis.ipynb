{
 "cells": [
  {
   "cell_type": "markdown",
   "id": "56e78d62-96cc-4b55-a952-2db916ad6e5d",
   "metadata": {},
   "source": [
    "# Importing essential libraries"
   ]
  },
  {
   "cell_type": "code",
   "execution_count": 1,
   "id": "fb6efb21-b62f-4983-aeeb-bd9aab152cbf",
   "metadata": {},
   "outputs": [
    {
     "name": "stdout",
     "output_type": "stream",
     "text": [
      "WARNING:tensorflow:From C:\\Users\\ADMIN\\anaconda3\\Lib\\site-packages\\keras\\src\\losses.py:2976: The name tf.losses.sparse_softmax_cross_entropy is deprecated. Please use tf.compat.v1.losses.sparse_softmax_cross_entropy instead.\n",
      "\n"
     ]
    },
    {
     "name": "stderr",
     "output_type": "stream",
     "text": [
      "[nltk_data] Downloading package stopwords to\n",
      "[nltk_data]     C:\\Users\\ADMIN\\AppData\\Roaming\\nltk_data...\n",
      "[nltk_data]   Package stopwords is already up-to-date!\n",
      "[nltk_data] Downloading package wordnet to\n",
      "[nltk_data]     C:\\Users\\ADMIN\\AppData\\Roaming\\nltk_data...\n",
      "[nltk_data]   Package wordnet is already up-to-date!\n",
      "[nltk_data] Downloading package omw-1.4 to\n",
      "[nltk_data]     C:\\Users\\ADMIN\\AppData\\Roaming\\nltk_data...\n",
      "[nltk_data]   Package omw-1.4 is already up-to-date!\n"
     ]
    }
   ],
   "source": [
    "import pandas as pd\n",
    "import numpy as np\n",
    "from sklearn.model_selection import train_test_split\n",
    "from sklearn.preprocessing import LabelEncoder\n",
    "import re\n",
    "import nltk\n",
    "from nltk.corpus import stopwords\n",
    "from gensim.models import Word2Vec\n",
    "from tensorflow.keras.models import Sequential\n",
    "from tensorflow.keras.layers import LSTM,Embedding,Dense,Dropout,SimpleRNN,Conv1D, MaxPooling1D,Flatten\n",
    "from tensorflow.keras.preprocessing.text import Tokenizer\n",
    "from tensorflow.keras.preprocessing.sequence import pad_sequences\n",
    "from tensorflow.keras.callbacks import EarlyStopping\n",
    "from purifytext import clean_text\n",
    "import tensorflow as tf\n",
    "import matplotlib.pyplot as plt\n",
    "import seaborn as sns\n",
    "from sklearn.metrics import classification_report"
   ]
  },
  {
   "cell_type": "code",
   "execution_count": 2,
   "id": "a947f51f-a495-41ee-83e6-d894547a9b6b",
   "metadata": {},
   "outputs": [
    {
     "data": {
      "text/html": [
       "<div>\n",
       "<style scoped>\n",
       "    .dataframe tbody tr th:only-of-type {\n",
       "        vertical-align: middle;\n",
       "    }\n",
       "\n",
       "    .dataframe tbody tr th {\n",
       "        vertical-align: top;\n",
       "    }\n",
       "\n",
       "    .dataframe thead th {\n",
       "        text-align: right;\n",
       "    }\n",
       "</style>\n",
       "<table border=\"1\" class=\"dataframe\">\n",
       "  <thead>\n",
       "    <tr style=\"text-align: right;\">\n",
       "      <th></th>\n",
       "      <th>review</th>\n",
       "      <th>sentiment</th>\n",
       "    </tr>\n",
       "  </thead>\n",
       "  <tbody>\n",
       "    <tr>\n",
       "      <th>0</th>\n",
       "      <td>One of the other reviewers has mentioned that ...</td>\n",
       "      <td>positive</td>\n",
       "    </tr>\n",
       "    <tr>\n",
       "      <th>1</th>\n",
       "      <td>A wonderful little production. &lt;br /&gt;&lt;br /&gt;The...</td>\n",
       "      <td>positive</td>\n",
       "    </tr>\n",
       "    <tr>\n",
       "      <th>2</th>\n",
       "      <td>I thought this was a wonderful way to spend ti...</td>\n",
       "      <td>positive</td>\n",
       "    </tr>\n",
       "    <tr>\n",
       "      <th>3</th>\n",
       "      <td>Basically there's a family where a little boy ...</td>\n",
       "      <td>negative</td>\n",
       "    </tr>\n",
       "    <tr>\n",
       "      <th>4</th>\n",
       "      <td>Petter Mattei's \"Love in the Time of Money\" is...</td>\n",
       "      <td>positive</td>\n",
       "    </tr>\n",
       "  </tbody>\n",
       "</table>\n",
       "</div>"
      ],
      "text/plain": [
       "                                              review sentiment\n",
       "0  One of the other reviewers has mentioned that ...  positive\n",
       "1  A wonderful little production. <br /><br />The...  positive\n",
       "2  I thought this was a wonderful way to spend ti...  positive\n",
       "3  Basically there's a family where a little boy ...  negative\n",
       "4  Petter Mattei's \"Love in the Time of Money\" is...  positive"
      ]
     },
     "execution_count": 2,
     "metadata": {},
     "output_type": "execute_result"
    }
   ],
   "source": [
    "imdb = pd.read_csv(\"IMDB Dataset.csv\")\n",
    "imdb.head()"
   ]
  },
  {
   "cell_type": "code",
   "execution_count": 3,
   "id": "9cdeb696-8710-4125-9f70-262b67f5c14e",
   "metadata": {},
   "outputs": [
    {
     "name": "stdout",
     "output_type": "stream",
     "text": [
      "<class 'pandas.core.frame.DataFrame'>\n",
      "RangeIndex: 50000 entries, 0 to 49999\n",
      "Data columns (total 2 columns):\n",
      " #   Column     Non-Null Count  Dtype \n",
      "---  ------     --------------  ----- \n",
      " 0   review     50000 non-null  object\n",
      " 1   sentiment  50000 non-null  object\n",
      "dtypes: object(2)\n",
      "memory usage: 781.4+ KB\n"
     ]
    }
   ],
   "source": [
    "imdb.info()"
   ]
  },
  {
   "cell_type": "code",
   "execution_count": 4,
   "id": "1b1ed474-ecd5-4504-805b-4f6cacb28840",
   "metadata": {},
   "outputs": [],
   "source": [
    "second_review = imdb.iloc[2,0]"
   ]
  },
  {
   "cell_type": "markdown",
   "id": "8bccf742-e318-4010-aac5-1c2a92a4e058",
   "metadata": {},
   "source": [
    "# Cleaning the Text"
   ]
  },
  {
   "cell_type": "code",
   "execution_count": 5,
   "id": "71954ea9-599a-4109-bcda-11bd2e174764",
   "metadata": {},
   "outputs": [
    {
     "name": "stdout",
     "output_type": "stream",
     "text": [
      "\n",
      "=== Cleaning Process ===\n",
      "\n",
      "⬇️ Removing HTML Tags ⬇️\n"
     ]
    },
    {
     "name": "stderr",
     "output_type": "stream",
     "text": [
      "C:\\Users\\ADMIN\\anaconda3\\Lib\\site-packages\\purifytext\\text_preprocessing.py:37: MarkupResemblesLocatorWarning: The input looks more like a filename than markup. You may want to open this file and pass the filehandle into Beautiful Soup.\n",
      "  soup = BeautifulSoup(text, \"html.parser\")\n"
     ]
    },
    {
     "name": "stdout",
     "output_type": "stream",
     "text": [
      "\n",
      "⬇️ Lowercasing Text ⬇️\n",
      "\n",
      "⬇️ Removing URLs ⬇️\n",
      "\n",
      "⬇️ Removing Emojis ⬇️\n",
      "\n",
      "⬇️ Removing Punctuation ⬇️\n",
      "\n",
      "⬇️ Removing Special Characters ⬇️\n",
      "\n",
      "⬇️ Removing Numbers ⬇️\n",
      "\n",
      "⬇️ Removing Whitespace ⬇️\n",
      "\n",
      "⬇️ Expanding Contractions ⬇️\n",
      "\n",
      "⬇️ Removing Stopwords ⬇️\n",
      "\n",
      "⬇️ Stemming Words ⬇️\n",
      "\n",
      "=== Cleaning Completed ===\n",
      "\n"
     ]
    }
   ],
   "source": [
    "imdb_clean=clean_text(dataframe=imdb,column_name='review',stemming=True, lemmatizing=False)"
   ]
  },
  {
   "cell_type": "code",
   "execution_count": 6,
   "id": "50336457-e65d-4d66-bc5d-3a5733e04f73",
   "metadata": {},
   "outputs": [
    {
     "ename": "NameError",
     "evalue": "name 'preprocessing_text' is not defined",
     "output_type": "error",
     "traceback": [
      "\u001b[1;31m---------------------------------------------------------------------------\u001b[0m",
      "\u001b[1;31mNameError\u001b[0m                                 Traceback (most recent call last)",
      "Cell \u001b[1;32mIn[6], line 1\u001b[0m\n\u001b[1;32m----> 1\u001b[0m \u001b[38;5;28mprint\u001b[39m(preprocessing_text(second_review))\n",
      "\u001b[1;31mNameError\u001b[0m: name 'preprocessing_text' is not defined"
     ]
    }
   ],
   "source": [
    "print(preprocessing_text(second_review))"
   ]
  },
  {
   "cell_type": "code",
   "execution_count": 7,
   "id": "386769b6-847a-4387-a88a-122345f49109",
   "metadata": {},
   "outputs": [
    {
     "data": {
      "text/html": [
       "<div>\n",
       "<style scoped>\n",
       "    .dataframe tbody tr th:only-of-type {\n",
       "        vertical-align: middle;\n",
       "    }\n",
       "\n",
       "    .dataframe tbody tr th {\n",
       "        vertical-align: top;\n",
       "    }\n",
       "\n",
       "    .dataframe thead th {\n",
       "        text-align: right;\n",
       "    }\n",
       "</style>\n",
       "<table border=\"1\" class=\"dataframe\">\n",
       "  <thead>\n",
       "    <tr style=\"text-align: right;\">\n",
       "      <th></th>\n",
       "      <th>review</th>\n",
       "      <th>sentiment</th>\n",
       "    </tr>\n",
       "  </thead>\n",
       "  <tbody>\n",
       "    <tr>\n",
       "      <th>0</th>\n",
       "      <td>one review mention watch oz episod hook right ...</td>\n",
       "      <td>positive</td>\n",
       "    </tr>\n",
       "    <tr>\n",
       "      <th>1</th>\n",
       "      <td>wonder littl product film techniqu unassum old...</td>\n",
       "      <td>positive</td>\n",
       "    </tr>\n",
       "    <tr>\n",
       "      <th>2</th>\n",
       "      <td>thought wonder way spend time hot summer weeke...</td>\n",
       "      <td>positive</td>\n",
       "    </tr>\n",
       "    <tr>\n",
       "      <th>3</th>\n",
       "      <td>basic famili littl boy jake think zombi closet...</td>\n",
       "      <td>negative</td>\n",
       "    </tr>\n",
       "    <tr>\n",
       "      <th>4</th>\n",
       "      <td>petter mattei love time money visual stun film...</td>\n",
       "      <td>positive</td>\n",
       "    </tr>\n",
       "  </tbody>\n",
       "</table>\n",
       "</div>"
      ],
      "text/plain": [
       "                                              review sentiment\n",
       "0  one review mention watch oz episod hook right ...  positive\n",
       "1  wonder littl product film techniqu unassum old...  positive\n",
       "2  thought wonder way spend time hot summer weeke...  positive\n",
       "3  basic famili littl boy jake think zombi closet...  negative\n",
       "4  petter mattei love time money visual stun film...  positive"
      ]
     },
     "execution_count": 7,
     "metadata": {},
     "output_type": "execute_result"
    }
   ],
   "source": [
    "imdb_clean.head()"
   ]
  },
  {
   "cell_type": "code",
   "execution_count": null,
   "id": "3bd3ef58-f520-418d-a6c4-d4c85468e82b",
   "metadata": {},
   "outputs": [],
   "source": []
  },
  {
   "cell_type": "code",
   "execution_count": 8,
   "id": "493d309b-c0bc-4033-9ac0-8dc83ff277b1",
   "metadata": {},
   "outputs": [],
   "source": [
    "# Encoding the sentiments\n",
    "label_encoder = LabelEncoder()\n",
    "imdb_clean['sentiment'] = label_encoder.fit_transform(imdb_clean['sentiment'])"
   ]
  },
  {
   "cell_type": "code",
   "execution_count": 9,
   "id": "b2a4cc3b-49e1-4a0e-9117-1b9fe314aee2",
   "metadata": {},
   "outputs": [
    {
     "name": "stdout",
     "output_type": "stream",
     "text": [
      "wonder littl product film techniqu unassum oldtimebbc fashion give comfort sometim discomfort sens realism entir piec actor extrem well chosen michael sheen got polari voic pat truli see seamless edit guid refer william diari entri well worth watch terrificli written perform piec master product one great master comedi life realism realli come home littl thing fantasi guard rather use tradit dream techniqu remain solid disappear play knowledg sens particularli scene concern orton halliwel set particularli flat halliwel mural decor everi surfac terribl well done\n"
     ]
    }
   ],
   "source": [
    "x = imdb_clean['review'].values\n",
    "y = imdb_clean['sentiment'].values\n",
    "print(x[1])"
   ]
  },
  {
   "cell_type": "code",
   "execution_count": 10,
   "id": "a2d6e38c-71b6-4e99-87ef-0c3a4f5798ba",
   "metadata": {},
   "outputs": [],
   "source": [
    "x_train, x_test, y_train, y_test = train_test_split(x, y, test_size=0.20, random_state=42)"
   ]
  },
  {
   "cell_type": "markdown",
   "id": "ffafbe2a-f306-4c01-9b43-8f205309e6b7",
   "metadata": {},
   "source": [
    "# Tokenizing the text"
   ]
  },
  {
   "cell_type": "code",
   "execution_count": 11,
   "id": "e426e95e-c74f-4ae0-b72f-211ad65115b3",
   "metadata": {},
   "outputs": [],
   "source": [
    "tokenizer = Tokenizer(oov_token=\"<nothing>\")\n",
    "tokenizer.fit_on_texts(x)"
   ]
  },
  {
   "cell_type": "code",
   "execution_count": 12,
   "id": "ce4198a8-09ec-4f5b-a976-9a970ec7fd33",
   "metadata": {},
   "outputs": [
    {
     "data": {
      "text/plain": [
       "174564"
      ]
     },
     "execution_count": 12,
     "metadata": {},
     "output_type": "execute_result"
    }
   ],
   "source": [
    "vocab_size = len(tokenizer.word_index) + 1  # Adding 1 for padding\n",
    "vocab_size"
   ]
  },
  {
   "cell_type": "code",
   "execution_count": 13,
   "id": "4b1a4250-e654-45f1-bc33-0380f5fd3fc1",
   "metadata": {},
   "outputs": [],
   "source": [
    "x_train = tokenizer.texts_to_sequences(x_train)\n",
    "x_test = tokenizer.texts_to_sequences(x_test)"
   ]
  },
  {
   "cell_type": "code",
   "execution_count": 14,
   "id": "ed16669a-b623-4ed7-9d26-57f2641ca846",
   "metadata": {},
   "outputs": [],
   "source": [
    "max_len=500"
   ]
  },
  {
   "cell_type": "code",
   "execution_count": 15,
   "id": "a6ab9a2e-48ad-4268-bcf7-befcf26d57e2",
   "metadata": {},
   "outputs": [],
   "source": [
    "x_train=pad_sequences(x_train,padding='pre',maxlen=max_len)\n",
    "x_test=pad_sequences(x_test,padding='pre',maxlen=max_len)"
   ]
  },
  {
   "cell_type": "code",
   "execution_count": 16,
   "id": "ef8165dd-7062-44d2-b247-c978e33f99f8",
   "metadata": {},
   "outputs": [
    {
     "data": {
      "text/plain": [
       "array([     0,      0,      0,      0,      0,      0,      0,      0,\n",
       "            0,      0,      0,      0,      0,      0,      0,      0,\n",
       "            0,      0,      0,      0,      0,      0,      0,      0,\n",
       "            0,      0,      0,      0,      0,      0,      0,      0,\n",
       "            0,      0,      0,      0,      0,      0,      0,      0,\n",
       "            0,      0,      0,      0,      0,      0,      0,      0,\n",
       "            0,      0,      0,      0,      0,      0,      0,      0,\n",
       "            0,      0,      0,      0,      0,      0,      0,      0,\n",
       "            0,      0,      0,      0,      0,      0,      0,      0,\n",
       "            0,      0,      0,      0,      0,      0,      0,      0,\n",
       "            0,      0,      0,      0,      0,      0,      0,      0,\n",
       "            0,      0,      0,      0,      0,      0,      0,      0,\n",
       "            0,      0,      0,      0,      0,      0,      0,      0,\n",
       "            0,      0,      0,      0,      0,      0,      0,      0,\n",
       "            0,      0,      0,      0,      0,      0,      0,      0,\n",
       "            0,      0,      0,      0,      0,      0,      0,      0,\n",
       "            0,      0,      0,      0,      0,      0,      0,      0,\n",
       "            0,      0,      0,      0,      0,      0,      0,      0,\n",
       "            0,      0,      0,      0,      0,      0,      0,      0,\n",
       "            0,      0,      0,      0,      0,      0,      0,      0,\n",
       "            0,      0,      0,      0,      0,      0,      0,      0,\n",
       "            0,      0,      0,      0,      0,      0,      0,      0,\n",
       "            0,      0,      0,      0,      0,      0,      0,      0,\n",
       "            0,      0,      0,      0,      0,      0,      0,      0,\n",
       "            0,      0,      0,      0,      0,      0,      0,      0,\n",
       "            0,      0,      0,      0,      0,      0,      0,      0,\n",
       "            0,      0,      0,      0,      0,      0,      0,      0,\n",
       "            0,      0,      0,      0,      0,      0,      0,      0,\n",
       "            0,      0,      0,      0,      0,      0,      0,      0,\n",
       "            0,      0,      0,      0,      0,      0,      0,      0,\n",
       "            0,      0,      0,      0,      0,      0,      0,      0,\n",
       "            0,      0,      0,      0,      0,      0,      0,      0,\n",
       "            0,      0,      0,      0,      0,      0,      0,      0,\n",
       "            0,      0,      0,      0,      0,      0,      0,      0,\n",
       "            0,      0,      0,      0,      0,      0,      0,      0,\n",
       "            0,      0,      0,      0,      0,      0,      0,      0,\n",
       "            0,      0,      0,      0,      0,      0,      0,      0,\n",
       "            0,      0,      0,      0,    694,    358,     41,    266,\n",
       "          827,    727,   2235,    251,   4206,   7182,    103,   1464,\n",
       "           29,    399,     30,   3448,     12,     51,    936,   1582,\n",
       "          987,    238,    109,    852,    372,   7181,     72,   1153,\n",
       "        17446,   1661,   1786,    146,     21,     57,    368,    163,\n",
       "        17999,    130,   2129,     16,      4,    963,     27,     61,\n",
       "            3,    130,    221,   3956,  31180,   1343,   8714,     52,\n",
       "          124,  27527,  55290,   1342,   2595,    352,    279,    271,\n",
       "           37,     33,    305,   2686,    395,   2398,    318,   7697,\n",
       "         1267,   9394, 149364, 149365,    173,     83,    349,    371,\n",
       "           75,   2521,    618,    302,     20,    158,     49,    522,\n",
       "          142,    184,    311,      6,   1236,    149, 149366,    950,\n",
       "           96,   8176,   1081,    630,    283,      5,   2515,   7071,\n",
       "         3099,   1467,  28055,    119,     80,    118,    908,    646,\n",
       "         6565,   3888,    862,      2,    582,  12092,    180,  51185,\n",
       "          169,     10,     41,     41,     80,   2810,   6031,    277,\n",
       "           62,   1889,  13354,     93,    597,    267,   1451,  22936,\n",
       "         1974,  37285,   9718,    205,    558,    286,   1489,   1044,\n",
       "         4779,   1674,     72,    285,    905,    571,    306,   1053,\n",
       "          179,   1936,    326,  19376,     24,   2226,    888,   8676,\n",
       "         1144,     10,   9816,    142,      4,    114,    557,    891,\n",
       "          601,   2759,  17389,    128,    294,   3132,   1594,    112,\n",
       "         3437,  33531,    716,     65,     56,     69,     44,    393,\n",
       "          146,    237,   1215,   1423,    892,    399,      3,   2869,\n",
       "         1611,    870,    173,    366,   2230,   7618,  38685,    310,\n",
       "         3148,    130,     50,   3193])"
      ]
     },
     "execution_count": 16,
     "metadata": {},
     "output_type": "execute_result"
    }
   ],
   "source": [
    "x_train[0]"
   ]
  },
  {
   "cell_type": "code",
   "execution_count": 17,
   "id": "f9d0e61f-fd44-4efe-a105-0bba2a7646a5",
   "metadata": {},
   "outputs": [
    {
     "ename": "NameError",
     "evalue": "name 'x_text_sequence' is not defined",
     "output_type": "error",
     "traceback": [
      "\u001b[1;31m---------------------------------------------------------------------------\u001b[0m",
      "\u001b[1;31mNameError\u001b[0m                                 Traceback (most recent call last)",
      "Cell \u001b[1;32mIn[17], line 1\u001b[0m\n\u001b[1;32m----> 1\u001b[0m \u001b[38;5;28mprint\u001b[39m(x_text_sequence[\u001b[38;5;241m1\u001b[39m])\n",
      "\u001b[1;31mNameError\u001b[0m: name 'x_text_sequence' is not defined"
     ]
    }
   ],
   "source": [
    "print(x_text_sequence[1])"
   ]
  },
  {
   "cell_type": "code",
   "execution_count": 18,
   "id": "a81b4f50-7c73-4597-acb3-f226245af5a0",
   "metadata": {},
   "outputs": [],
   "source": [
    "early_stopping_callback = EarlyStopping(monitor='val_loss', patience=5, restore_best_weights=True)"
   ]
  },
  {
   "cell_type": "markdown",
   "id": "457b710f-1e1d-4a9e-93a7-b0365ac29bb2",
   "metadata": {},
   "source": [
    "# RNN Model"
   ]
  },
  {
   "cell_type": "code",
   "execution_count": 19,
   "id": "502e8c35-38db-4e55-82ea-f6fcae97fd96",
   "metadata": {},
   "outputs": [
    {
     "name": "stdout",
     "output_type": "stream",
     "text": [
      "WARNING:tensorflow:From C:\\Users\\ADMIN\\anaconda3\\Lib\\site-packages\\keras\\src\\backend.py:873: The name tf.get_default_graph is deprecated. Please use tf.compat.v1.get_default_graph instead.\n",
      "\n"
     ]
    }
   ],
   "source": [
    "model = Sequential()\n",
    "model.add(Embedding(input_dim=vocab_size, output_dim=128, input_length=max_len))\n",
    "model.add(SimpleRNN(128, activation='relu')) \n",
    "model.add(Dense(1, activation='sigmoid'))"
   ]
  },
  {
   "cell_type": "code",
   "execution_count": 20,
   "id": "5dda66fc-6116-4bb2-9427-304e25cc1109",
   "metadata": {},
   "outputs": [
    {
     "name": "stdout",
     "output_type": "stream",
     "text": [
      "WARNING:tensorflow:From C:\\Users\\ADMIN\\anaconda3\\Lib\\site-packages\\keras\\src\\optimizers\\__init__.py:309: The name tf.train.Optimizer is deprecated. Please use tf.compat.v1.train.Optimizer instead.\n",
      "\n"
     ]
    }
   ],
   "source": [
    "model.compile(optimizer='adam', loss='binary_crossentropy', metrics=['accuracy'])"
   ]
  },
  {
   "cell_type": "code",
   "execution_count": 21,
   "id": "91ab50f8-ca4e-44e3-b878-928f4c9d1847",
   "metadata": {},
   "outputs": [
    {
     "name": "stdout",
     "output_type": "stream",
     "text": [
      "Model: \"sequential\"\n",
      "_________________________________________________________________\n",
      " Layer (type)                Output Shape              Param #   \n",
      "=================================================================\n",
      " embedding (Embedding)       (None, 500, 128)          22344192  \n",
      "                                                                 \n",
      " simple_rnn (SimpleRNN)      (None, 128)               32896     \n",
      "                                                                 \n",
      " dense (Dense)               (None, 1)                 129       \n",
      "                                                                 \n",
      "=================================================================\n",
      "Total params: 22377217 (85.36 MB)\n",
      "Trainable params: 22377217 (85.36 MB)\n",
      "Non-trainable params: 0 (0.00 Byte)\n",
      "_________________________________________________________________\n"
     ]
    }
   ],
   "source": [
    "model.summary()"
   ]
  },
  {
   "cell_type": "code",
   "execution_count": null,
   "id": "c87279b4-db8c-4821-8632-297155df242b",
   "metadata": {},
   "outputs": [
    {
     "name": "stdout",
     "output_type": "stream",
     "text": [
      "Epoch 1/10\n",
      "WARNING:tensorflow:From C:\\Users\\ADMIN\\anaconda3\\Lib\\site-packages\\keras\\src\\utils\\tf_utils.py:492: The name tf.ragged.RaggedTensorValue is deprecated. Please use tf.compat.v1.ragged.RaggedTensorValue instead.\n",
      "\n",
      "WARNING:tensorflow:From C:\\Users\\ADMIN\\anaconda3\\Lib\\site-packages\\keras\\src\\engine\\base_layer_utils.py:384: The name tf.executing_eagerly_outside_functions is deprecated. Please use tf.compat.v1.executing_eagerly_outside_functions instead.\n",
      "\n",
      "1000/1000 [==============================] - 331s 328ms/step - loss: 1174259892224.0000 - accuracy: 0.6714 - val_loss: 0.7069 - val_accuracy: 0.5107\n",
      "Epoch 2/10\n",
      " 237/1000 [======>.......................] - ETA: 3:54 - loss: 1.2297 - accuracy: 0.5256"
     ]
    }
   ],
   "source": [
    "history = model.fit(x_train, y_train, epochs=10, batch_size=32, validation_split=0.2, \n",
    "                    callbacks=[early_stopping_callback])"
   ]
  },
  {
   "cell_type": "code",
   "execution_count": null,
   "id": "30777d41-9a6c-477f-a0e6-9ed561fa395a",
   "metadata": {},
   "outputs": [],
   "source": [
    "y_pred = model.predict(x_test)\n",
    "y_pred_rounded = np.round(y_pred)\n",
    "cm = tf.math.confusion_matrix(labels=y_test,predictions=y_pred_rounded)\n",
    "\n",
    "\n",
    "plt.figure(figsize = (10,7))\n",
    "sns.heatmap(cm, annot=True, fmt='d')\n",
    "plt.title('Confusion Matrix')\n",
    "plt.xlabel('Predicted')\n",
    "plt.ylabel('Truth')"
   ]
  },
  {
   "cell_type": "code",
   "execution_count": 151,
   "id": "7a43f5dd-831b-4ac5-90b5-5b64393622a2",
   "metadata": {},
   "outputs": [
    {
     "data": {
      "text/plain": [
       "<matplotlib.legend.Legend at 0x238cafe7210>"
      ]
     },
     "execution_count": 151,
     "metadata": {},
     "output_type": "execute_result"
    },
    {
     "data": {
      "image/png": "[encoded data removed]",
      "text/plain": [
       "<Figure size 640x480 with 1 Axes>"
      ]
     },
     "metadata": {},
     "output_type": "display_data"
    }
   ],
   "source": [
    "plt.title('Loss')\n",
    "plt.plot(history.history['loss'], label='train')\n",
    "plt.plot(history.history['val_loss'], label='test')\n",
    "plt.legend()"
   ]
  },
  {
   "cell_type": "code",
   "execution_count": 153,
   "id": "156f70e0-b7b4-433e-a66c-8901211584f9",
   "metadata": {},
   "outputs": [
    {
     "data": {
      "text/plain": [
       "<matplotlib.legend.Legend at 0x238caf1b850>"
      ]
     },
     "execution_count": 153,
     "metadata": {},
     "output_type": "execute_result"
    },
    {
     "data": {
      "image/png": "[encoded data removed]",
      "text/plain": [
       "<Figure size 640x480 with 1 Axes>"
      ]
     },
     "metadata": {},
     "output_type": "display_data"
    }
   ],
   "source": [
    "plt.title('Accuracy')\n",
    "plt.plot(history.history['accuracy'], label='train')\n",
    "plt.plot(history.history['val_accuracy'], label='test')\n",
    "plt.legend()"
   ]
  },
  {
   "cell_type": "markdown",
   "id": "b672f087-a8be-4e1d-a000-bded9c4278d4",
   "metadata": {
    "jp-MarkdownHeadingCollapsed": true
   },
   "source": [
    "# RNN model evaluation"
   ]
  },
  {
   "cell_type": "code",
   "execution_count": 183,
   "id": "849ca146-7f01-4427-9a34-810a0284fa6c",
   "metadata": {},
   "outputs": [
    {
     "name": "stdout",
     "output_type": "stream",
     "text": [
      "Classification Report of RNN model:\n",
      "               precision    recall  f1-score   support\n",
      "\n",
      "           0       0.85      0.83      0.84      4961\n",
      "           1       0.84      0.86      0.85      5039\n",
      "\n",
      "    accuracy                           0.84     10000\n",
      "   macro avg       0.84      0.84      0.84     10000\n",
      "weighted avg       0.84      0.84      0.84     10000\n",
      "\n"
     ]
    }
   ],
   "source": [
    "print(\"Classification Report of RNN model:\\n\",classification_report(y_test,y_pred_rounded))"
   ]
  },
  {
   "cell_type": "markdown",
   "id": "9b552468-6b1a-4310-81b4-33d292b537f4",
   "metadata": {
    "jp-MarkdownHeadingCollapsed": true
   },
   "source": [
    "# CNN Model"
   ]
  },
  {
   "cell_type": "code",
   "execution_count": 178,
   "id": "94ae8856-1216-40d4-812a-b44cb1a4a066",
   "metadata": {},
   "outputs": [
    {
     "name": "stdout",
     "output_type": "stream",
     "text": [
      "WARNING:tensorflow:From C:\\Users\\ADMIN\\anaconda3\\Lib\\site-packages\\keras\\src\\backend.py:6642: The name tf.nn.max_pool is deprecated. Please use tf.nn.max_pool2d instead.\n",
      "\n"
     ]
    }
   ],
   "source": [
    "cnn_model = Sequential()\n",
    "cnn_model.add(Embedding(input_dim=174564, output_dim=128, input_length=500))\n",
    "cnn_model.add(Conv1D(128, 5, activation='relu'))\n",
    "cnn_model.add(MaxPooling1D(pool_size=2))\n",
    "cnn_model.add(Flatten())\n",
    "cnn_model.add(Dense(1, activation='sigmoid'))"
   ]
  },
  {
   "cell_type": "code",
   "execution_count": 179,
   "id": "dd1c0892-3015-4b2e-90f9-d6a9c950dbae",
   "metadata": {},
   "outputs": [],
   "source": [
    "cnn_model.compile(loss = \"binary_crossentropy\",metrics=['accuracy'],optimizer = 'adam')"
   ]
  },
  {
   "cell_type": "code",
   "execution_count": 180,
   "id": "9c9b7472-a219-4869-b564-5eddc65742ee",
   "metadata": {},
   "outputs": [
    {
     "name": "stdout",
     "output_type": "stream",
     "text": [
      "Epoch 1/5\n",
      "1000/1000 [==============================] - 238s 237ms/step - loss: 0.3406 - accuracy: 0.8446 - val_loss: 0.2899 - val_accuracy: 0.8854\n",
      "Epoch 2/5\n",
      "1000/1000 [==============================] - 244s 244ms/step - loss: 0.1247 - accuracy: 0.9552 - val_loss: 0.3299 - val_accuracy: 0.8799\n",
      "Epoch 3/5\n",
      "1000/1000 [==============================] - 245s 245ms/step - loss: 0.0320 - accuracy: 0.9893 - val_loss: 0.4796 - val_accuracy: 0.8752\n",
      "Epoch 4/5\n",
      "1000/1000 [==============================] - 242s 242ms/step - loss: 0.0073 - accuracy: 0.9980 - val_loss: 0.6325 - val_accuracy: 0.8719\n",
      "Epoch 5/5\n",
      "1000/1000 [==============================] - 239s 239ms/step - loss: 0.0019 - accuracy: 0.9996 - val_loss: 0.7964 - val_accuracy: 0.8705\n"
     ]
    }
   ],
   "source": [
    "cnn_history = cnn_model.fit(x_train,y_train,epochs=5,batch_size = 32,validation_split=0.2)"
   ]
  },
  {
   "cell_type": "markdown",
   "id": "38d28018-e5ba-4b77-9e59-fef8233fbf3b",
   "metadata": {
    "jp-MarkdownHeadingCollapsed": true
   },
   "source": [
    "# CNN Model Evaluation"
   ]
  },
  {
   "cell_type": "code",
   "execution_count": 185,
   "id": "0fac82c9-f456-4b7c-874b-f892486c964e",
   "metadata": {},
   "outputs": [
    {
     "name": "stdout",
     "output_type": "stream",
     "text": [
      "313/313 [==============================] - 10s 31ms/step\n"
     ]
    },
    {
     "data": {
      "text/plain": [
       "Text(95.72222222222221, 0.5, 'Truth')"
      ]
     },
     "execution_count": 185,
     "metadata": {},
     "output_type": "execute_result"
    },
    {
     "data": {
      "image/png": "[encoded data removed]",
      "text/plain": [
       "<Figure size 1000x700 with 2 Axes>"
      ]
     },
     "metadata": {},
     "output_type": "display_data"
    }
   ],
   "source": [
    "y_pred_cnn = model.predict(x_test)\n",
    "y_pred_rounded_cnn = np.round(y_pred_cnn)\n",
    "cm = tf.math.confusion_matrix(labels=y_test,predictions=y_pred_rounded_cnn)\n",
    "\n",
    "\n",
    "plt.figure(figsize = (10,7))\n",
    "sns.heatmap(cm, annot=True, fmt='d')\n",
    "plt.title('Confusion Matrix')\n",
    "plt.xlabel('Predicted')\n",
    "plt.ylabel('Truth')"
   ]
  },
  {
   "cell_type": "code",
   "execution_count": 186,
   "id": "76febc88-121c-4cb4-84a0-a99d7ffaedc9",
   "metadata": {},
   "outputs": [
    {
     "name": "stdout",
     "output_type": "stream",
     "text": [
      "Classification report of CNN model:\n",
      "               precision    recall  f1-score   support\n",
      "\n",
      "           0       0.85      0.83      0.84      4961\n",
      "           1       0.84      0.86      0.85      5039\n",
      "\n",
      "    accuracy                           0.84     10000\n",
      "   macro avg       0.84      0.84      0.84     10000\n",
      "weighted avg       0.84      0.84      0.84     10000\n",
      "\n"
     ]
    }
   ],
   "source": [
    "print(\"Classification report of CNN model:\\n\",classification_report(y_test,y_pred_rounded_cnn))"
   ]
  },
  {
   "cell_type": "markdown",
   "id": "8d80e706-b83f-4894-bd6f-52e29496a22a",
   "metadata": {},
   "source": [
    "# Model Testing"
   ]
  },
  {
   "cell_type": "code",
   "execution_count": 196,
   "id": "a80abdea-6438-41d3-b13e-9a7a9f1326ec",
   "metadata": {},
   "outputs": [],
   "source": [
    "def predict_sentiment(text):\n",
    "    new_input = tokenizer.texts_to_sequences([text])\n",
    "    new_input = pad_sequences(new_input, maxlen=500)\n",
    "    prediction = cnn_model.predict(new_input)\n",
    "    if prediction[0][0] > 0.5:\n",
    "        sentiment = \"Positive\"\n",
    "    else:\n",
    "        sentiment = \"Negative\"\n",
    "    return sentiment"
   ]
  },
  {
   "cell_type": "code",
   "execution_count": 197,
   "id": "ac31343c-5baa-4fcd-ac16-947df08f5517",
   "metadata": {},
   "outputs": [
    {
     "data": {
      "text/plain": [
       "'Run the cell below to test the model'"
      ]
     },
     "execution_count": 197,
     "metadata": {},
     "output_type": "execute_result"
    }
   ],
   "source": [
    "\"\"\"Run the cell below to test the model\"\"\""
   ]
  },
  {
   "cell_type": "code",
   "execution_count": 203,
   "id": "90ef128d-570e-4b37-81f7-678f33bd2375",
   "metadata": {},
   "outputs": [
    {
     "name": "stdin",
     "output_type": "stream",
     "text": [
      " what an amazing movie!!!\n"
     ]
    },
    {
     "name": "stdout",
     "output_type": "stream",
     "text": [
      "1/1 [==============================] - 0s 25ms/step\n",
      "The predicted sentiment is:  Positive\n"
     ]
    }
   ],
   "source": [
    "my_review_1 = input()\n",
    "my_sentiment_1 = predict_sentiment(my_review_1)\n",
    "print(\"The predicted sentiment is: \",my_sentiment_1)\n",
    "# Success"
   ]
  },
  {
   "cell_type": "code",
   "execution_count": 205,
   "id": "190d505f-2ec4-46dd-9e0b-e7537dc44147",
   "metadata": {},
   "outputs": [
    {
     "name": "stdin",
     "output_type": "stream",
     "text": [
      " This movie successfully failed to impress me\n"
     ]
    },
    {
     "name": "stdout",
     "output_type": "stream",
     "text": [
      "1/1 [==============================] - 0s 31ms/step\n",
      "The predicted sentiment is:  Negative\n"
     ]
    }
   ],
   "source": [
    "my_review_2 = input()\n",
    "my_sentiment_2 = predict_sentiment(my_review_2)\n",
    "print(\"The predicted sentiment is: \",my_sentiment)\n",
    "# Success"
   ]
  },
  {
   "cell_type": "code",
   "execution_count": 208,
   "id": "eb68567d-53c3-400c-9708-5b77688a1e8a",
   "metadata": {},
   "outputs": [
    {
     "name": "stdin",
     "output_type": "stream",
     "text": [
      " Such a miserable movie it was!!\n"
     ]
    },
    {
     "name": "stdout",
     "output_type": "stream",
     "text": [
      "1/1 [==============================] - 0s 21ms/step\n",
      "The predicted sentiment is:  Positive\n"
     ]
    }
   ],
   "source": [
    "my_review_3 = input()\n",
    "my_sentiment_3 = predict_sentiment(my_review_3)\n",
    "print(\"The predicted sentiment is: \",my_sentiment_3)\n",
    "# Failure"
   ]
  },
  {
   "cell_type": "code",
   "execution_count": 212,
   "id": "358d4d0d-f6e0-4ecc-b34e-234ca0250498",
   "metadata": {},
   "outputs": [
    {
     "name": "stdin",
     "output_type": "stream",
     "text": [
      " this movie failed to impress me\n"
     ]
    },
    {
     "name": "stdout",
     "output_type": "stream",
     "text": [
      "1/1 [==============================] - 0s 20ms/step\n",
      "The predicted sentiment is:  Positive\n"
     ]
    }
   ],
   "source": [
    "my_review_4 = input()\n",
    "my_sentiment_4 = predict_sentiment(my_review_4)\n",
    "print(\"The predicted sentiment is: \",my_sentiment_4)\n",
    "# Failure"
   ]
  },
  {
   "cell_type": "markdown",
   "id": "c6f6adc1-2443-4afa-86bc-dad2465ea4a1",
   "metadata": {
    "jp-MarkdownHeadingCollapsed": true
   },
   "source": [
    "# Conclusion "
   ]
  },
  {
   "cell_type": "code",
   "execution_count": 192,
   "id": "3844e51d-2e72-4ac5-a5dc-95cc7bd5b9f1",
   "metadata": {},
   "outputs": [
    {
     "data": {
      "text/plain": [
       "'\\nOverall both the models performed equally well on the \"IMDB Rating 50k\" dataset with accuracy of 84 %.\\nHowever the accuracy of the model could\\'ve been better if we had used a pre-trained model from huggingface\\nThank you.\\n'"
      ]
     },
     "execution_count": 192,
     "metadata": {},
     "output_type": "execute_result"
    }
   ],
   "source": [
    "\"\"\"\n",
    "Overall both the models performed equally well on the \"IMDB Rating 50k\" dataset with accuracy of 84 %.\n",
    "However the accuracy of the model could've been better if we had used a pre-trained model from huggingface\n",
    "Thank you.\n",
    "\"\"\""
   ]
  },
  {
   "cell_type": "code",
   "execution_count": null,
   "id": "e9168dbf-ae27-4f0d-a74c-1a85e3387e16",
   "metadata": {},
   "outputs": [],
   "source": []
  }
 ],
 "metadata": {
  "kernelspec": {
   "display_name": "Python 3 (ipykernel)",
   "language": "python",
   "name": "python3"
  },
  "language_info": {
   "codemirror_mode": {
    "name": "ipython",
    "version": 3
   },
   "file_extension": ".py",
   "mimetype": "text/x-python",
   "name": "python",
   "nbconvert_exporter": "python",
   "pygments_lexer": "ipython3",
   "version": "3.11.5"
  }
 },
 "nbformat": 4,
 "nbformat_minor": 5
}
